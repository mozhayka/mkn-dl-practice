{
 "cells": [
  {
   "cell_type": "code",
   "execution_count": 1,
   "id": "8576896b",
   "metadata": {},
   "outputs": [],
   "source": [
    "import math\n",
    "import numpy as np\n",
    "from torch import nn\n",
    "from torch.nn import init\n",
    "from torch.nn.modules import loss\n",
    "import torch"
   ]
  },
  {
   "cell_type": "code",
   "execution_count": 2,
   "id": "bf40ac3e",
   "metadata": {},
   "outputs": [],
   "source": [
    "import matplotlib\n",
    "matplotlib.use('Agg')\n",
    "import matplotlib.pyplot as plt\n",
    "%matplotlib inline  "
   ]
  },
  {
   "cell_type": "markdown",
   "id": "8c770d43",
   "metadata": {},
   "source": [
    "## Восставновление матрицы малого ранга (2 балла)\n",
    "\n",
    "Есть неизвестная матрица X_taget. (В тетрадке она хранятся явно, для самопроверки)\n",
    "X_noised - зашумленная матрица, по которой нужно восстановить X_taget.\n",
    "\n",
    "Для решения задачи. Нужно задать две матрицы $H$, $W$ и найти минимум $|| W * H = X_{noisy} ||$ методом градиентного спуска.\n",
    "\n",
    "Напишите градиетный спуск и подберите learning rate и количетсво итераций. "
   ]
  },
  {
   "cell_type": "code",
   "execution_count": 3,
   "id": "05e2e849",
   "metadata": {},
   "outputs": [],
   "source": [
    "def get_X():\n",
    "    np.random.seed(12345)\n",
    "    W_ = np.random.randn(73, 6)\n",
    "    H_ = np.random.randn(6, 46)\n",
    "    X_taget = W_.dot(H_)\n",
    "    return torch.tensor(X_taget), torch.tensor(X_taget + np.random.randn(73, 46) * 0.1)"
   ]
  },
  {
   "cell_type": "code",
   "execution_count": 4,
   "id": "b55d9f63",
   "metadata": {},
   "outputs": [],
   "source": [
    "X_taget, X_noisy = get_X()"
   ]
  },
  {
   "cell_type": "code",
   "execution_count": 5,
   "id": "a8a8ba64",
   "metadata": {},
   "outputs": [],
   "source": [
    "def dist(X1, X2):\n",
    "    d = (X1 - X2) ** 2\n",
    "    return d.mean()"
   ]
  },
  {
   "cell_type": "code",
   "execution_count": 6,
   "id": "e8612d90",
   "metadata": {},
   "outputs": [],
   "source": [
    "# Минимизируейте dist(X_taget, W.matmul(H))"
   ]
  },
  {
   "cell_type": "code",
   "execution_count": 7,
   "id": "6926aa43",
   "metadata": {},
   "outputs": [
    {
     "data": {
      "text/plain": [
       "tensor(10.9638, dtype=torch.float64, grad_fn=<MeanBackward0>)"
      ]
     },
     "execution_count": 7,
     "metadata": {},
     "output_type": "execute_result"
    }
   ],
   "source": [
    "W = torch.tensor(np.random.randn(73, 6), requires_grad=True)\n",
    "H = torch.tensor(np.random.randn(6, 46), requires_grad=True)\n",
    "F = W.matmul(H)\n",
    "\n",
    "dist(F, X_noisy)"
   ]
  },
  {
   "cell_type": "code",
   "execution_count": 8,
   "id": "214e82fd",
   "metadata": {},
   "outputs": [
    {
     "name": "stdout",
     "output_type": "stream",
     "text": [
      "loss = 10.963772331890139\n",
      "loss = 1.4836832653212264\n",
      "loss = 0.22089013566574656\n",
      "loss = 0.06624548327147974\n",
      "loss = 0.019356538845063224\n",
      "loss = 0.009913195401148552\n",
      "loss = 0.008199733836524932\n",
      "loss = 0.007895210796215175\n",
      "loss = 0.007841305431032227\n",
      "loss = 0.007831770418296689\n"
     ]
    }
   ],
   "source": [
    "lr = 0.1\n",
    "iters = 10000\n",
    "\n",
    "for i in range(iters):\n",
    "    W.grad = None\n",
    "    H.grad = None\n",
    "    \n",
    "    F = W.matmul(H)\n",
    "        \n",
    "    loss = dist(F, X_noisy)\n",
    "    loss.backward()\n",
    "    \n",
    "    if i % 1000 == 0:\n",
    "        print(f\"loss = {loss.detach()}\")\n",
    "            \n",
    "    with torch.no_grad():\n",
    "        W -= lr * W.grad\n",
    "        H -= lr * H.grad"
   ]
  },
  {
   "cell_type": "code",
   "execution_count": 9,
   "id": "ed582d20",
   "metadata": {},
   "outputs": [],
   "source": [
    "base_dist = dist(X_noisy, X_taget).item()\n",
    "recoverd_dist = dist(W.matmul(H), X_taget).item()"
   ]
  },
  {
   "cell_type": "code",
   "execution_count": 10,
   "id": "e61b2e71",
   "metadata": {},
   "outputs": [
    {
     "name": "stdout",
     "output_type": "stream",
     "text": [
      "Distance to noisy matrix:     0.010014712528201112\n",
      "Distance to recovered matrix: 0.002186248867688226\n"
     ]
    }
   ],
   "source": [
    "# Восстановленая матрица должна быть ближе к исходной чем шумная\n",
    "print(f\"Distance to noisy matrix:     {base_dist}\")\n",
    "print(f\"Distance to recovered matrix: {recoverd_dist}\")"
   ]
  },
  {
   "cell_type": "code",
   "execution_count": 11,
   "id": "bdda47b9",
   "metadata": {},
   "outputs": [],
   "source": [
    "assert recoverd_dist < base_dist"
   ]
  },
  {
   "cell_type": "markdown",
   "id": "f1e1d95e",
   "metadata": {},
   "source": [
    "## Эластичная веревка (4 балла)\n",
    "\n",
    "Эластичная веревка свободно провисает между двумя опорами. Нужно смоделировать какую форму примет веревка.\n",
    "\n",
    "Представим веревку как набор одинаковых грузов, соединенных невесомыми пружинами. Нам требуется найти такое положение грузов, в котором суммарная потенциальная энергия будет минимальна.\n",
    "\n",
    "Потенциальная энергия груза зависит от высоты:\n",
    "\n",
    "$$ E^m_i = mgh_i = mgy_i $$\n",
    "\n",
    "Потенциальная энергия пружины зависит от расстояния между соседним грузами $ d_{i, i+1} $\n",
    "\n",
    "$$ E^s_{i,i+1} = k (d_{i, i+1} - d_0) ^ 2 / 2 $$\n",
    "\n",
    "Запишите выражение для энергии и найдите минимум методом градиентного спуска. (Не забудьте, что крайние грузы зафиксированы их положение всегда равно начальному)"
   ]
  },
  {
   "cell_type": "markdown",
   "id": "5a973b88",
   "metadata": {},
   "source": [
    "Ниже заданы все необходимые константы:\n",
    "* `g` - ускорение свободного падения $g$\n",
    "* `x_start`, `y_start` - начальные координаты грузов\n",
    "* `start_dist` - длина пружины с свобдном состоянии $d_0$\n",
    "* `k` - коэффициент упругости пружины $k$\n",
    "* `mass` - масса груза $m$"
   ]
  },
  {
   "cell_type": "code",
   "execution_count": 12,
   "id": "d6d60424",
   "metadata": {},
   "outputs": [],
   "source": [
    "# \n",
    "joints_number = 40\n",
    "\n",
    "g = 9.81 # м/с2\n",
    "\n",
    "x_start = np.linspace(0, 1, num=joints_number + 1) \n",
    "y_start = np.zeros(joints_number + 1)\n",
    "\n",
    "start_dist = 1 / joints_number # м\n",
    "\n",
    "k = 1 * joints_number # Н/м\n",
    "\n",
    "mass = 0.01 / (joints_number + 1) # кг"
   ]
  },
  {
   "cell_type": "code",
   "execution_count": 13,
   "id": "e33c56a0",
   "metadata": {},
   "outputs": [
    {
     "data": {
      "image/png": "[encoded data removed]",
      "text/plain": [
       "<Figure size 640x480 with 1 Axes>"
      ]
     },
     "metadata": {},
     "output_type": "display_data"
    }
   ],
   "source": [
    "plt.axis(\"off\")\n",
    "plt.plot(x_start, y_start, marker='o')\n",
    "plt.show()"
   ]
  },
  {
   "cell_type": "code",
   "execution_count": 14,
   "id": "7064ba7a",
   "metadata": {},
   "outputs": [],
   "source": [
    "x = torch.tensor(x_start, requires_grad=True, dtype=torch.float32)\n",
    "y = torch.tensor(y_start, requires_grad=True, dtype=torch.float32)"
   ]
  },
  {
   "cell_type": "code",
   "execution_count": 15,
   "id": "027f20d7",
   "metadata": {},
   "outputs": [],
   "source": [
    "def E_mass(x, y):\n",
    "    return torch.sum(mass * g * y)"
   ]
  },
  {
   "cell_type": "code",
   "execution_count": 16,
   "id": "ee5a959a",
   "metadata": {},
   "outputs": [],
   "source": [
    "def E_springs(x, y):\n",
    "    return torch.sum(k / 2 * (((torch.sqrt((x[:-1] - x[1:]) ** 2 + (y[:-1] - y[1:]) ** 2) - start_dist)) ** 2))"
   ]
  },
  {
   "cell_type": "code",
   "execution_count": 17,
   "id": "54f7635f",
   "metadata": {},
   "outputs": [],
   "source": [
    "def E(x, y):    \n",
    "    return E_mass(x, y) + E_springs(x, y)"
   ]
  },
  {
   "cell_type": "code",
   "execution_count": 18,
   "id": "0c442e25",
   "metadata": {},
   "outputs": [
    {
     "data": {
      "text/plain": [
       "tensor(3.7512e-13, grad_fn=<AddBackward0>)"
      ]
     },
     "execution_count": 18,
     "metadata": {},
     "output_type": "execute_result"
    }
   ],
   "source": [
    "E(x, y)"
   ]
  },
  {
   "cell_type": "code",
   "execution_count": 19,
   "id": "9e9a1e80",
   "metadata": {},
   "outputs": [
    {
     "name": "stdout",
     "output_type": "stream",
     "text": [
      "loss = 3.7511660444522477e-13\n",
      "loss = -0.002097569638863206\n",
      "loss = -0.0038495303597301245\n",
      "loss = -0.0052549694664776325\n",
      "loss = -0.006319548934698105\n",
      "loss = -0.007055342197418213\n",
      "loss = -0.007503957487642765\n",
      "loss = -0.00774396164342761\n",
      "loss = -0.007859132252633572\n",
      "loss = -0.007910218089818954\n"
     ]
    }
   ],
   "source": [
    "lr = 0.01\n",
    "iters = 10000\n",
    "\n",
    "for i in range(iters):\n",
    "    x.grad = None\n",
    "    y.grad = None\n",
    "        \n",
    "    loss = E(x, y)\n",
    "    loss.backward()\n",
    "    \n",
    "    if i % 1000 == 0:\n",
    "        print(f\"loss = {loss.detach()}\")\n",
    "            \n",
    "    with torch.no_grad():\n",
    "        x[1:-1] -= lr * x.grad[1:-1]\n",
    "        y[1:-1] -= lr * y.grad[1:-1]\n",
    "        "
   ]
  },
  {
   "cell_type": "code",
   "execution_count": 20,
   "id": "381cfca1",
   "metadata": {},
   "outputs": [],
   "source": [
    "# Получите суммарную энергию меньше -0.007"
   ]
  },
  {
   "cell_type": "code",
   "execution_count": 21,
   "id": "1b6f1849",
   "metadata": {},
   "outputs": [
    {
     "data": {
      "image/png": "[encoded data removed]",
      "text/plain": [
       "<Figure size 640x480 with 1 Axes>"
      ]
     },
     "metadata": {},
     "output_type": "display_data"
    }
   ],
   "source": [
    "plt.plot(x.detach().numpy(), y.detach().numpy(), marker='o')\n",
    "plt.show()"
   ]
  },
  {
   "cell_type": "code",
   "execution_count": null,
   "id": "225fe444",
   "metadata": {},
   "outputs": [],
   "source": []
  }
 ],
 "metadata": {
  "kernelspec": {
   "display_name": "Python 3 (ipykernel)",
   "language": "python",
   "name": "python3"
  },
  "language_info": {
   "codemirror_mode": {
    "name": "ipython",
    "version": 3
   },
   "file_extension": ".py",
   "mimetype": "text/x-python",
   "name": "python",
   "nbconvert_exporter": "python",
   "pygments_lexer": "ipython3",
   "version": "3.10.7"
  }
 },
 "nbformat": 4,
 "nbformat_minor": 5
}
